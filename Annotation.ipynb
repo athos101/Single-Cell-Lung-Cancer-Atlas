{
 "cells": [
  {
   "cell_type": "markdown",
   "id": "82380047",
   "metadata": {},
   "source": [
    "## Loading libraries & functions"
   ]
  },
  {
   "cell_type": "code",
   "execution_count": 1,
   "id": "a82a085c-682c-4ddd-8de4-3b8692893caf",
   "metadata": {},
   "outputs": [],
   "source": [
    "import anndata as ad\n",
    "import seaborn as sns\n",
    "from matplotlib import pyplot as plt\n",
    "import numpy as np\n",
    "import pandas as pd\n",
    "import scanpy as sc\n",
    "import os\n",
    "import warnings\n",
    "import altair as alt\n",
    "warnings.filterwarnings('ignore')"
   ]
  },
  {
   "cell_type": "code",
   "execution_count": null,
   "id": "d9b07e4b",
   "metadata": {},
   "outputs": [],
   "source": [
    "def process_subcluster(adata):\n",
    "    sc.pp.neighbors(adata, knn=20)\n",
    "    sc.tl.umap(adata)\n",
    "    for resolution in [0.5,1.0,1.5]:\n",
    "        sc.tl.leiden(adata, resolution=resolution, key_added=f\"leiden{resolution}\", random_state=0)"
   ]
  },
  {
   "cell_type": "markdown",
   "id": "822ed15c",
   "metadata": {},
   "source": [
    "## Loading data"
   ]
  },
  {
   "cell_type": "code",
   "execution_count": 2,
   "id": "7fbb0122",
   "metadata": {},
   "outputs": [],
   "source": [
    "adata = ad.read_h5ad(\"/mnt/hd6tb/athos_hub/h5ad_data/atlas_clean.h5ad\")\n",
    "# Error correction:\n",
    "#adata.uns['log1p']['base'] = None"
   ]
  },
  {
   "cell_type": "markdown",
   "id": "74c346d2",
   "metadata": {},
   "source": [
    "## Visualizing clusters"
   ]
  },
  {
   "cell_type": "markdown",
   "id": "43e36a18",
   "metadata": {},
   "source": [
    "<p style=\"color: green; font-size: 16px; font-weight: bold;\">Violin plots</p>"
   ]
  },
  {
   "cell_type": "code",
   "execution_count": null,
   "id": "2a17e729",
   "metadata": {},
   "outputs": [],
   "source": [
    "with plt.rc_context({\"figure.figsize\": (16, 8), \"figure.dpi\": (100)}):\n",
    "    sc.pl.violin(adata, keys=[\"CD8B\"], groupby=\"annotation_l2\", rotation=45)"
   ]
  },
  {
   "cell_type": "markdown",
   "id": "9ae1accf",
   "metadata": {},
   "source": [
    "<p style=\"color: green; font-size: 16px; font-weight: bold;\">UMAP plot</p>"
   ]
  },
  {
   "cell_type": "code",
   "execution_count": null,
   "id": "d7da5790",
   "metadata": {},
   "outputs": [],
   "source": [
    "with plt.rc_context({\"figure.figsize\": (16, 8), \"figure.dpi\": (100)}):\n",
    "    sc.pl.umap(adata, color=[\"celltype\"], size=10, ncols=2)"
   ]
  },
  {
   "cell_type": "markdown",
   "id": "e0ed56ae",
   "metadata": {},
   "source": [
    "<p style=\"color: green; font-size: 16px; font-weight: bold;\">Violin plots</p>"
   ]
  },
  {
   "cell_type": "code",
   "execution_count": null,
   "id": "7b78977b",
   "metadata": {},
   "outputs": [],
   "source": [
    "with plt.rc_context({\"figure.figsize\": (16, 8), \"figure.dpi\": (100)}):\n",
    "    sc.pl.violin(adata, keys=[\"CD8B\"], groupby=\"annotation_l2\", rotation=45)"
   ]
  }
 ],
 "metadata": {
  "kernelspec": {
   "display_name": "Python 3",
   "language": "python",
   "name": "python3"
  },
  "language_info": {
   "codemirror_mode": {
    "name": "ipython",
    "version": 3
   },
   "file_extension": ".py",
   "mimetype": "text/x-python",
   "name": "python",
   "nbconvert_exporter": "python",
   "pygments_lexer": "ipython3",
   "version": "3.9.15"
  }
 },
 "nbformat": 4,
 "nbformat_minor": 5
}
