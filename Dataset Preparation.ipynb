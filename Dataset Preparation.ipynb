{
 "cells": [
  {
   "cell_type": "markdown",
   "id": "738600b2",
   "metadata": {},
   "source": [
    "## Loading libraries"
   ]
  },
  {
   "cell_type": "code",
   "execution_count": 5,
   "id": "4cf7c58e",
   "metadata": {},
   "outputs": [],
   "source": [
    "import anndata as ad\n",
    "import seaborn as sns\n",
    "from matplotlib import pyplot as plt\n",
    "import scvi\n",
    "import numpy as np\n",
    "import pandas as pd\n",
    "from scipy import sparse\n",
    "from scipy.stats import median_abs_deviation\n",
    "import scanpy as sc\n",
    "import os"
   ]
  },
  {
   "cell_type": "markdown",
   "id": "db00cbc0",
   "metadata": {},
   "source": [
    "<h2>Loading data</h2>"
   ]
  },
  {
   "cell_type": "code",
   "execution_count": null,
   "id": "780bc1a7",
   "metadata": {},
   "outputs": [],
   "source": [
    "# Dir to the samples\n",
    "sample_path = 'Samples'\n",
    "# Folders between the sample name and the files (if doesn't exist, put '')\n",
    "middle_path = '/filtered_feature_bc_matrix'\n",
    "\n",
    "sample_names = []\n",
    "for foldername in os.listdir(sample_path):\n",
    "    if os.path.isdir(os.path.join(sample_path, foldername)):\n",
    "        sample_names.append(foldername)\n",
    "print(sample_names)\n",
    "# For each sample, read the directory to a list of samples.\n",
    "        \n",
    "sample_list = []\n",
    "\n",
    "for name in sample_names:\n",
    "    # Getting anndata (transposed to obs X vars)\n",
    "    path = f'samples/{name}{middle_path}/matrix.mtx.gz'\n",
    "    sample = sc.read(path, cache=True).T\n",
    "    \n",
    "    # Getting obs\n",
    "    path = f'samples/{name}{middle_path}/barcodes.tsv.gz'\n",
    "    obs = pd.read_csv(path, sep='\\t', header=None, index_col=0)\n",
    "    obs.index.name = 'barcode'\n",
    "    sample.obs = obs\n",
    "    \n",
    "    # Adding metadata\n",
    "    sample.obs['Patient'] = name\n",
    "    sample.obs['Condition'] = name[-1].upper()\n",
    "    \n",
    "    # Getting vars\n",
    "    path = f\"samples/{name}{middle_path}/features.tsv.gz\"\n",
    "    var = pd.read_table(path, sep='\\t', header=None, index_col=1)\n",
    "    var.index.name = 'genes'\n",
    "    sample.var = var\n",
    "    sample.var_names_make_unique(join=\"-\")\n",
    "    \n",
    "    \n",
    "    sample_list.append(sample)"
   ]
  },
  {
   "cell_type": "markdown",
   "id": "3d2d73f3",
   "metadata": {},
   "source": [
    "# Removing doublets with SOLO (scVI)"
   ]
  },
  {
   "cell_type": "code",
   "execution_count": null,
   "id": "d3cb575a",
   "metadata": {},
   "outputs": [],
   "source": [
    "sc.pp.filter_cells(adata, min_counts=500)\n",
    "sc.pp.filter_cells(adata, min_genes=200)\n",
    "\n",
    "adata.layers['counts']=adata.X.copy()\n",
    "\n",
    "sc.pp.normalize_total(adata, target_sum=1e4)\n",
    "sc.pp.log1p(adata)\n",
    "\n",
    "sc.pp.highly_variable_genes(adata, flavor='seurat_v3', n_top_genes=3000, \n",
    "                            layer='counts',subset=True, batch_key='Author')"
   ]
  },
  {
   "cell_type": "code",
   "execution_count": null,
   "id": "67481dd1",
   "metadata": {},
   "outputs": [],
   "source": [
    "scvi.model.SCVI.setup_anndata(adata, layer='counts')\n",
    "model = scvi.model.SCVI(adata)\n",
    "model.train(max_epochs=100)"
   ]
  },
  {
   "cell_type": "code",
   "execution_count": null,
   "id": "cf6e130a",
   "metadata": {},
   "outputs": [],
   "source": [
    "solo = scvi.external.SOLO.from_scvi_model(model)\n",
    "solo.train()"
   ]
  },
  {
   "cell_type": "code",
   "execution_count": null,
   "id": "214a3a08",
   "metadata": {},
   "outputs": [],
   "source": [
    "solo_df = solo.predict()"
   ]
  },
  {
   "cell_type": "markdown",
   "id": "4d5afc45",
   "metadata": {},
   "source": [
    "## QC"
   ]
  },
  {
   "cell_type": "code",
   "execution_count": null,
   "id": "e1a4b17e",
   "metadata": {},
   "outputs": [],
   "source": [
    "sc.pp.normalize_total(adata, target_sum=1e4)\n",
    "sc.pp.log1p(adata)\n",
    "sc.pp.highly_variable_genes(adata, flavor='seurat_v3', n_top_genes=4000,\n",
    "                           layer='counts',subset=True,batch_key='Author')\n",
    "\n",
    "adata.var['mt'] = adata.var_names.str.startswith('MT-')\n",
    "adata.var['ribo'] = adata.var_names.str.startswith(('RPS','RPL'))\n",
    "adata.var['hb'] = adata.var_names.str.startswith((\"^HB[^(P)]\"))\n",
    "\n",
    "sc.pp.calculate_qc_metrics(\n",
    "    adata, qc_vars=['mt','ribo','hb'], inplace=True, percent_top=[20], log1p=True\n",
    ")"
   ]
  },
  {
   "cell_type": "code",
   "execution_count": null,
   "id": "a522f715",
   "metadata": {},
   "outputs": [],
   "source": [
    "sc.pl.violin(adata, ['n_genes_by_counts', 'total_counts', 'pct_counts_ribo',\n",
    "                     'pct_counts_hb', 'pct_counts_mt'], jitter=0.4, multi_panel=True)"
   ]
  },
  {
   "cell_type": "code",
   "execution_count": null,
   "id": "a29c7f90",
   "metadata": {},
   "outputs": [],
   "source": [
    "def is_outlier(adata, metric: str, nmads: int):\n",
    "    M = adata.obs[metric]\n",
    "    outlier = (M < np.median(M) - nmads * median_abs_deviation(M)) | (\n",
    "        np.median(M) + nmads * median_abs_deviation(M) < M\n",
    "    )\n",
    "    return outlier\n",
    "\n",
    "adata.obs[\"outlier\"] = (\n",
    "    is_outlier(adata, \"log1p_total_counts\", 5)\n",
    "    | is_outlier(adata, \"log1p_n_genes_by_counts\", 5)\n",
    "    | is_outlier(adata, \"pct_counts_in_top_20_genes\", 5)\n",
    ")\n",
    "\n",
    "adata.obs[\"mt_outlier\"] = is_outlier(adata, \"pct_counts_mt\", 3) | (\n",
    "    adata.obs[\"pct_counts_mt\"] > 8\n",
    ")\n",
    "\n",
    "adata = adata[(~adata.obs.outlier) & (~adata.obs.mt_outlier)].copy()"
   ]
  },
  {
   "cell_type": "code",
   "execution_count": null,
   "id": "a382bc7d",
   "metadata": {},
   "outputs": [],
   "source": [
    "sc.pl.highest_expr_genes(adata, n_top=20)"
   ]
  },
  {
   "cell_type": "code",
   "execution_count": null,
   "id": "a1638579",
   "metadata": {},
   "outputs": [],
   "source": [
    "adata.X = adata.layers['counts'].copy()\n",
    "adata.write('raw_clean_adata.h5ad')"
   ]
  },
  {
   "cell_type": "markdown",
   "id": "79666152",
   "metadata": {},
   "source": [
    "## scVI Integration"
   ]
  },
  {
   "cell_type": "code",
   "execution_count": null,
   "id": "a7b49ab9",
   "metadata": {},
   "outputs": [],
   "source": [
    "scvi.model.SCVI.setup_anndata(adata, batch_key='Patient', layer='counts')"
   ]
  },
  {
   "cell_type": "code",
   "execution_count": null,
   "id": "67ce7995",
   "metadata": {},
   "outputs": [],
   "source": [
    "arches_params = dict(\n",
    "    use_layer_norm='both',\n",
    "    use_batch_norm='none',\n",
    "    encode_covariates=True,\n",
    "    dropout_rate=0.2,\n",
    "    n_layers=2,\n",
    ")\n",
    "\n",
    "vae = scvi.model.SCVI(adata, **arches_params)\n",
    "vae.train()"
   ]
  },
  {
   "cell_type": "code",
   "execution_count": null,
   "id": "9afb2cda",
   "metadata": {},
   "outputs": [],
   "source": [
    "adata.obsm[\"X_scVI\"] = vae.get_latent_representation() #dimensional reduction\n",
    "adata.layers['scvi_normalized'] = vae.get_normalized_expression(library_size = 1e4)\n",
    "sc.pp.neighbors(adata, use_rep=\"X_scVI\")\n",
    "sc.tl.umap(adata)"
   ]
  },
  {
   "cell_type": "markdown",
   "id": "baa48cb3",
   "metadata": {},
   "source": [
    "## Umap Visualization"
   ]
  },
  {
   "cell_type": "code",
   "execution_count": null,
   "id": "36c74da8",
   "metadata": {},
   "outputs": [],
   "source": [
    "sc.pl.umap(adata, color = ['Condition', 'Patient'], frameon=False, ncols = 2)"
   ]
  },
  {
   "cell_type": "code",
   "execution_count": null,
   "id": "5685310b",
   "metadata": {},
   "outputs": [],
   "source": [
    "adata.write_h5ad(\"adataV1.h5ad\")"
   ]
  }
 ],
 "metadata": {
  "kernelspec": {
   "display_name": "Python 3 (ipykernel)",
   "language": "python",
   "name": "python3"
  },
  "language_info": {
   "codemirror_mode": {
    "name": "ipython",
    "version": 3
   },
   "file_extension": ".py",
   "mimetype": "text/x-python",
   "name": "python",
   "nbconvert_exporter": "python",
   "pygments_lexer": "ipython3",
   "version": "3.9.16"
  }
 },
 "nbformat": 4,
 "nbformat_minor": 5
}
