{
 "cells": [
  {
   "cell_type": "markdown",
   "id": "738600b2",
   "metadata": {},
   "source": [
    "## Loading libraries"
   ]
  },
  {
   "cell_type": "code",
   "execution_count": null,
   "id": "0bc0d152-791e-4318-b674-3689ae27055d",
   "metadata": {},
   "outputs": [],
   "source": [
    "!pip install anndata scvi-tools numpy pandas scipy scanpy packaging==24.1"
   ]
  },
  {
   "cell_type": "code",
   "execution_count": 29,
   "id": "4cf7c58e",
   "metadata": {},
   "outputs": [
    {
     "name": "stderr",
     "output_type": "stream",
     "text": [
      "C:\\Users\\athos\\anaconda3\\Lib\\site-packages\\tqdm\\auto.py:21: TqdmWarning: IProgress not found. Please update jupyter and ipywidgets. See https://ipywidgets.readthedocs.io/en/stable/user_install.html\n",
      "  from .autonotebook import tqdm as notebook_tqdm\n"
     ]
    }
   ],
   "source": [
    "import anndata as ad\n",
    "import scvi\n",
    "import numpy as np\n",
    "import pandas as pd\n",
    "from scipy.stats import median_abs_deviation\n",
    "import scanpy as sc\n",
    "import os"
   ]
  },
  {
   "cell_type": "markdown",
   "id": "db00cbc0",
   "metadata": {},
   "source": [
    "<h2>Reading Data - Situation 1: Building data from h5 file</h2>"
   ]
  },
  {
   "cell_type": "code",
   "execution_count": 57,
   "id": "620d721f-af78-4a0a-8034-b17ccc8ec534",
   "metadata": {},
   "outputs": [
    {
     "name": "stderr",
     "output_type": "stream",
     "text": [
      "C:\\Users\\athos\\anaconda3\\Lib\\site-packages\\anndata\\_core\\anndata.py:1793: UserWarning: Variable names are not unique. To make them unique, call `.var_names_make_unique`.\n",
      "  utils.warn_names_duplicates(\"var\")\n",
      "C:\\Users\\athos\\anaconda3\\Lib\\site-packages\\anndata\\_core\\anndata.py:1793: UserWarning: Variable names are not unique. To make them unique, call `.var_names_make_unique`.\n",
      "  utils.warn_names_duplicates(\"var\")\n"
     ]
    }
   ],
   "source": [
    "adata = sc.read_10x_h5(\"Datasets/pbmc_10k_matrix_raw.h5\")\n",
    "adata.var_names_make_unique()"
   ]
  },
  {
   "cell_type": "markdown",
   "id": "f07f5ddd-b43a-4fe4-bb1f-06604121cc87",
   "metadata": {},
   "source": [
    "<h2>Reading Data - Situation 2: Building data from matrix-barcode-feature format</h2>"
   ]
  },
  {
   "cell_type": "markdown",
   "id": "128f151c-1f9c-4db6-ba6e-b941ebddadd1",
   "metadata": {},
   "source": [
    "<p>Here, we build a Anndata object from gene (can be named features), barcodes, matrix (mtx) and metadata. The steps for building the object from these four files are:\n",
    "<ul>\n",
    "   <li>Getting the samples location.</li>\n",
    "   <li>For each one, get the sample name - that is the name of the folder containing the files for that sample.</li>\n",
    "   <li>Reading each sample folder, we read:</li>\n",
    "    <ul>\n",
    "       <li>Matrix - matrix.mtx.gz</li>\n",
    "       <li>Barcodes/Observations/Cells - barcodes.tsv.gz</li>\n",
    "       <li>Features/Genes - features.tsv.gz</li>\n",
    "       <li>Metadata - meta.csv</li>\n",
    "    </ul>\n",
    "</ul>\n",
    "\n",
    "This is just an example, as there are lots of different formats of storing scRNA-seq data.\n",
    "</p>"
   ]
  },
  {
   "cell_type": "code",
   "execution_count": null,
   "id": "780bc1a7",
   "metadata": {},
   "outputs": [],
   "source": [
    "location = '/counts'\n",
    "\n",
    "sample_names = []\n",
    "for sample in os.listdir(location):\n",
    "    if os.path.isdir(os.path.join(location, sample)):\n",
    "        sample_names.append(sample)\n",
    "print(sample_names)\n",
    "        \n",
    "sample_list = []\n",
    "\n",
    "for name in sample_names:\n",
    "    # Getting anndata (transposed to obs X vars)\n",
    "    path = f'{location}/{name}/matrix.mtx.gz'\n",
    "    sample = sc.read(path, cache=True).T\n",
    "    \n",
    "    # Getting obs\n",
    "    path = f'{location}/{name}/barcodes.tsv.gz'\n",
    "    obs = pd.read_csv(path, sep='\\t', header=None, index_col=0)\n",
    "    obs.index.name = 'barcode'\n",
    "    sample.obs = obs\n",
    "\n",
    "    # Getting vars\n",
    "    path = f\"{location}/{name}/features.tsv.gz\"\n",
    "    var = pd.read_table(path, sep='\\t', header=None, index_col=1)\n",
    "    var.index.name = 'genes'\n",
    "    sample.var = var\n",
    "    sample.var_names_make_unique(join=\"-\")\n",
    "    \n",
    "    # Adding metadata\n",
    "    sample.obs['Patient'] = name\n",
    "    sample.obs['Condition'] = name[-1].upper()\n",
    "    \n",
    "    sample_list.append(sample)"
   ]
  },
  {
   "cell_type": "markdown",
   "id": "9bd06031-8421-45dd-a750-fc1fd340e1d1",
   "metadata": {},
   "source": [
    "## Normalization & highly variable genes (HVG)"
   ]
  },
  {
   "cell_type": "markdown",
   "id": "930212dd-e918-438d-82db-efb4a1f54d40",
   "metadata": {},
   "source": [
    "Obs1 → We will use counts further to doublet removal. The purpose of saving it in layers is because the count matrix (adata.X) will be replaced by the normalizes counts. This differs scanpy from Seurat: Seurat always saves a copy of the processed matrix.\n",
    "<br><br>\n",
    "Obs2 → Normalize total makes a fixed total expression per cell of 1e4 (10,000) per gene. Log1p log transforms it with log(1+x), x being each cell-gene expression value. Log is in natural base (e).\n",
    "<br><br>\n",
    "Obs3 → Add a batch key only in situations where it is needed: when we gather many different datasets. You should put the column that would state this difference: if we have a \"Author\" column, we distinguish each dataset generating method by the name of the author of the dataset paper."
   ]
  },
  {
   "cell_type": "code",
   "execution_count": null,
   "id": "d3cb575a",
   "metadata": {},
   "outputs": [],
   "source": [
    "sc.pp.filter_cells(adata, min_counts=500)\n",
    "sc.pp.filter_cells(adata, min_genes=200)\n",
    "\n",
    "# Obs1\n",
    "adata.layers['counts']=adata.X.copy()\n",
    "\n",
    "# Obs2\n",
    "sc.pp.normalize_total(adata, target_sum=1e4)\n",
    "sc.pp.log1p(adata)\n",
    "\n",
    "# Obs3\n",
    "sc.pp.highly_variable_genes(adata, flavor='seurat_v3', n_top_genes=3000, \n",
    "                            layer='counts',subset=True, batch_key='Author')"
   ]
  },
  {
   "cell_type": "markdown",
   "id": "3d2d73f3",
   "metadata": {},
   "source": [
    "## Removing doublets with SOLO (scVI)"
   ]
  },
  {
   "cell_type": "markdown",
   "id": "2dd5cb5e-9068-4326-971a-6017c29215cd",
   "metadata": {},
   "source": [
    "<p>Doublets are cells that were sequenced together. Thus, they add bias to the further analysis. That said, in the majority of cases we should remove them:</p>"
   ]
  },
  {
   "cell_type": "code",
   "execution_count": 87,
   "id": "92439b96-3e68-426f-ab54-441631443b01",
   "metadata": {},
   "outputs": [
    {
     "data": {
      "text/html": [
       "<div>\n",
       "<style scoped>\n",
       "    .dataframe tbody tr th:only-of-type {\n",
       "        vertical-align: middle;\n",
       "    }\n",
       "\n",
       "    .dataframe tbody tr th {\n",
       "        vertical-align: top;\n",
       "    }\n",
       "\n",
       "    .dataframe thead th {\n",
       "        text-align: right;\n",
       "    }\n",
       "</style>\n",
       "<table border=\"1\" class=\"dataframe\">\n",
       "  <thead>\n",
       "    <tr style=\"text-align: right;\">\n",
       "      <th></th>\n",
       "      <th>doublet</th>\n",
       "      <th>singlet</th>\n",
       "    </tr>\n",
       "  </thead>\n",
       "  <tbody>\n",
       "    <tr>\n",
       "      <th>AAACCCAAGCGCCCAT-1</th>\n",
       "      <td>0.044233</td>\n",
       "      <td>0.955767</td>\n",
       "    </tr>\n",
       "    <tr>\n",
       "      <th>AAACCCAAGGTTCCGC-1</th>\n",
       "      <td>0.276011</td>\n",
       "      <td>0.723989</td>\n",
       "    </tr>\n",
       "    <tr>\n",
       "      <th>AAACCCACAGAGTTGG-1</th>\n",
       "      <td>0.017707</td>\n",
       "      <td>0.982293</td>\n",
       "    </tr>\n",
       "    <tr>\n",
       "      <th>AAACCCACAGGTATGG-1</th>\n",
       "      <td>0.529655</td>\n",
       "      <td>0.470345</td>\n",
       "    </tr>\n",
       "    <tr>\n",
       "      <th>AAACCCACATAGTCAC-1</th>\n",
       "      <td>0.109963</td>\n",
       "      <td>0.890037</td>\n",
       "    </tr>\n",
       "    <tr>\n",
       "      <th>...</th>\n",
       "      <td>...</td>\n",
       "      <td>...</td>\n",
       "    </tr>\n",
       "    <tr>\n",
       "      <th>TTTGTTGGTGTCATGT-1</th>\n",
       "      <td>0.025472</td>\n",
       "      <td>0.974528</td>\n",
       "    </tr>\n",
       "    <tr>\n",
       "      <th>TTTGTTGGTTTGAACC-1</th>\n",
       "      <td>0.009798</td>\n",
       "      <td>0.990202</td>\n",
       "    </tr>\n",
       "    <tr>\n",
       "      <th>TTTGTTGTCCAAGCCG-1</th>\n",
       "      <td>0.116983</td>\n",
       "      <td>0.883017</td>\n",
       "    </tr>\n",
       "    <tr>\n",
       "      <th>TTTGTTGTCTTACTGT-1</th>\n",
       "      <td>0.103846</td>\n",
       "      <td>0.896154</td>\n",
       "    </tr>\n",
       "    <tr>\n",
       "      <th>TTTGTTGTCTTCTAAC-1</th>\n",
       "      <td>0.177435</td>\n",
       "      <td>0.822565</td>\n",
       "    </tr>\n",
       "  </tbody>\n",
       "</table>\n",
       "<p>11792 rows × 2 columns</p>\n",
       "</div>"
      ],
      "text/plain": [
       "                     doublet   singlet\n",
       "AAACCCAAGCGCCCAT-1  0.044233  0.955767\n",
       "AAACCCAAGGTTCCGC-1  0.276011  0.723989\n",
       "AAACCCACAGAGTTGG-1  0.017707  0.982293\n",
       "AAACCCACAGGTATGG-1  0.529655  0.470345\n",
       "AAACCCACATAGTCAC-1  0.109963  0.890037\n",
       "...                      ...       ...\n",
       "TTTGTTGGTGTCATGT-1  0.025472  0.974528\n",
       "TTTGTTGGTTTGAACC-1  0.009798  0.990202\n",
       "TTTGTTGTCCAAGCCG-1  0.116983  0.883017\n",
       "TTTGTTGTCTTACTGT-1  0.103846  0.896154\n",
       "TTTGTTGTCTTCTAAC-1  0.177435  0.822565\n",
       "\n",
       "[11792 rows x 2 columns]"
      ]
     },
     "execution_count": 87,
     "metadata": {},
     "output_type": "execute_result"
    }
   ],
   "source": [
    "solo_df"
   ]
  },
  {
   "cell_type": "code",
   "execution_count": 75,
   "id": "67481dd1",
   "metadata": {},
   "outputs": [
    {
     "name": "stderr",
     "output_type": "stream",
     "text": [
      "GPU available: False, used: False\n",
      "TPU available: False, using: 0 TPU cores\n",
      "HPU available: False, using: 0 HPUs\n",
      "C:\\Users\\athos\\anaconda3\\Lib\\site-packages\\lightning\\pytorch\\trainer\\connectors\\data_connector.py:433: The 'train_dataloader' does not have many workers which may be a bottleneck. Consider increasing the value of the `num_workers` argument` to `num_workers=7` in the `DataLoader` to improve performance.\n"
     ]
    },
    {
     "name": "stdout",
     "output_type": "stream",
     "text": [
      "Epoch 100/100: 100%|██████████| 100/100 [10:17<00:00,  6.72s/it, v_num=1, train_loss=978]  "
     ]
    },
    {
     "name": "stderr",
     "output_type": "stream",
     "text": [
      "`Trainer.fit` stopped: `max_epochs=100` reached.\n"
     ]
    },
    {
     "name": "stdout",
     "output_type": "stream",
     "text": [
      "Epoch 100/100: 100%|██████████| 100/100 [10:17<00:00,  6.18s/it, v_num=1, train_loss=978]\n",
      "\u001b[34mINFO    \u001b[0m Creating doublets, preparing SOLO model.                                                                  \n"
     ]
    },
    {
     "name": "stderr",
     "output_type": "stream",
     "text": [
      "GPU available: False, used: False\n",
      "TPU available: False, using: 0 TPU cores\n",
      "HPU available: False, using: 0 HPUs\n",
      "C:\\Users\\athos\\anaconda3\\Lib\\site-packages\\lightning\\pytorch\\trainer\\connectors\\data_connector.py:433: The 'train_dataloader' does not have many workers which may be a bottleneck. Consider increasing the value of the `num_workers` argument` to `num_workers=7` in the `DataLoader` to improve performance.\n",
      "C:\\Users\\athos\\anaconda3\\Lib\\site-packages\\lightning\\pytorch\\trainer\\connectors\\data_connector.py:433: The 'val_dataloader' does not have many workers which may be a bottleneck. Consider increasing the value of the `num_workers` argument` to `num_workers=7` in the `DataLoader` to improve performance.\n"
     ]
    },
    {
     "name": "stdout",
     "output_type": "stream",
     "text": [
      "Epoch 277/400:  69%|██████▉   | 277/400 [09:50<04:22,  2.13s/it, v_num=1, train_loss_step=0.309, train_loss_epoch=0.242]\n",
      "Monitored metric validation_loss did not improve in the last 30 records. Best score: 0.228. Signaling Trainer to stop.\n"
     ]
    },
    {
     "name": "stderr",
     "output_type": "stream",
     "text": [
      "C:\\Users\\athos\\anaconda3\\Lib\\site-packages\\torch\\utils\\_contextlib.py:120: UserWarning: Prior to scvi-tools 1.1.3, `SOLO.predict` with `soft=True` (the default option) returned logits instead of probabilities. This behavior has since been corrected to return probabiltiies. The previous behavior can be replicated by passing in `return_logits=True`.\n",
      "  return func(*args, **kwargs)\n"
     ]
    },
    {
     "ename": "AttributeError",
     "evalue": "'DataFrame' object has no attribute 'prediction'",
     "output_type": "error",
     "traceback": [
      "\u001b[31m---------------------------------------------------------------------------\u001b[39m",
      "\u001b[31mAttributeError\u001b[39m                            Traceback (most recent call last)",
      "\u001b[32mC:\\Windows\\Temp\\ipykernel_17160\\3238973892.py\u001b[39m in \u001b[36m?\u001b[39m\u001b[34m()\u001b[39m\n\u001b[32m      4\u001b[39m solo = scvi.external.SOLO.from_scvi_model(model)\n\u001b[32m      5\u001b[39m solo.train()\n\u001b[32m      6\u001b[39m solo_df = solo.predict()\n\u001b[32m      7\u001b[39m \n\u001b[32m----> \u001b[39m\u001b[32m8\u001b[39m cell_mapper = dict(zip(solo_df.index, solo_df.prediction))\n\u001b[32m      9\u001b[39m cell_mapper = dict(zip(solo_df.index, solo_df.prediction))\n\u001b[32m     10\u001b[39m adata.obs[\u001b[33m'doublet_pred'\u001b[39m] = adata.obs.index.map(cell_dict)\n",
      "\u001b[32m~\\anaconda3\\Lib\\site-packages\\pandas\\core\\generic.py\u001b[39m in \u001b[36m?\u001b[39m\u001b[34m(self, name)\u001b[39m\n\u001b[32m   6314\u001b[39m             \u001b[38;5;28;01mand\u001b[39;00m name \u001b[38;5;28;01mnot\u001b[39;00m \u001b[38;5;28;01min\u001b[39;00m self._accessors\n\u001b[32m   6315\u001b[39m             \u001b[38;5;28;01mand\u001b[39;00m self._info_axis._can_hold_identifiers_and_holds_name(name)\n\u001b[32m   6316\u001b[39m         ):\n\u001b[32m   6317\u001b[39m             \u001b[38;5;28;01mreturn\u001b[39;00m self[name]\n\u001b[32m-> \u001b[39m\u001b[32m6318\u001b[39m         \u001b[38;5;28;01mreturn\u001b[39;00m object.__getattribute__(self, name)\n",
      "\u001b[31mAttributeError\u001b[39m: 'DataFrame' object has no attribute 'prediction'"
     ]
    }
   ],
   "source": [
    "scvi.model.SCVI.setup_anndata(adata, layer='counts')\n",
    "model = scvi.model.SCVI(adata)\n",
    "model.train(max_epochs=100)\n",
    "solo = scvi.external.SOLO.from_scvi_model(model)\n",
    "solo.train()\n",
    "solo_df = solo.predict()\n",
    "\n",
    "adata.obs['doublet_pred'] = solo_df[\"doublet\"] > solo_df[\"singlet\"]"
   ]
  },
  {
   "cell_type": "code",
   "execution_count": 89,
   "id": "e0eb2c62-e360-41d5-a4d8-3eebf946d38f",
   "metadata": {},
   "outputs": [
    {
     "data": {
      "text/plain": [
       "AAACCCAAGCGCCCAT-1    False\n",
       "AAACCCAAGGTTCCGC-1    False\n",
       "AAACCCACAGAGTTGG-1    False\n",
       "AAACCCACAGGTATGG-1     True\n",
       "AAACCCACATAGTCAC-1    False\n",
       "                      ...  \n",
       "TTTGTTGGTGTCATGT-1    False\n",
       "TTTGTTGGTTTGAACC-1    False\n",
       "TTTGTTGTCCAAGCCG-1    False\n",
       "TTTGTTGTCTTACTGT-1    False\n",
       "TTTGTTGTCTTCTAAC-1    False\n",
       "Name: doublet_pred, Length: 11792, dtype: bool"
      ]
     },
     "execution_count": 89,
     "metadata": {},
     "output_type": "execute_result"
    }
   ],
   "source": [
    "adata.obs['doublet_pred'] = solo_df[\"doublet\"] > solo_df[\"singlet\"]\n",
    "adata.obs['doublet_pred']"
   ]
  },
  {
   "cell_type": "code",
   "execution_count": 105,
   "id": "e9d2d792-3444-4303-aed5-657621e742db",
   "metadata": {},
   "outputs": [
    {
     "name": "stdout",
     "output_type": "stream",
     "text": [
      "(11792, 3000)\n",
      "(10534, 3000)\n",
      "Number of doublets:  1258\n"
     ]
    }
   ],
   "source": [
    "print(adata.shape)\n",
    "print(adata[~adata.obs.doublet_pred].shape)\n",
    "print(\"Number of predicted doublets: \", adata.shape[0] - adata[~adata.obs.doublet_pred].shape[0])"
   ]
  },
  {
   "cell_type": "markdown",
   "id": "4d5afc45",
   "metadata": {},
   "source": [
    "## QC"
   ]
  },
  {
   "cell_type": "code",
   "execution_count": null,
   "id": "e1a4b17e",
   "metadata": {},
   "outputs": [],
   "source": [
    "adata.var['mt'] = adata.var_names.str.startswith('MT-')\n",
    "adata.var['ribo'] = adata.var_names.str.startswith(('RPS','RPL'))\n",
    "adata.var['hb'] = adata.var_names.str.startswith((\"^HB[^(P)]\"))\n",
    "\n",
    "sc.pp.calculate_qc_metrics(\n",
    "    adata, qc_vars=['mt','ribo','hb'], inplace=True, percent_top=[20], log1p=True\n",
    ")"
   ]
  },
  {
   "cell_type": "code",
   "execution_count": null,
   "id": "a522f715",
   "metadata": {},
   "outputs": [],
   "source": [
    "sc.pl.violin(adata, ['n_genes_by_counts', 'total_counts', 'pct_counts_ribo',\n",
    "                     'pct_counts_hb', 'pct_counts_mt'], jitter=0.4, multi_panel=True)"
   ]
  },
  {
   "cell_type": "code",
   "execution_count": null,
   "id": "a29c7f90",
   "metadata": {},
   "outputs": [],
   "source": [
    "def is_outlier(adata, metric: str, nmads: int):\n",
    "    M = adata.obs[metric]\n",
    "    outlier = (M < np.median(M) - nmads * median_abs_deviation(M)) | (\n",
    "        np.median(M) + nmads * median_abs_deviation(M) < M\n",
    "    )\n",
    "    return outlier\n",
    "\n",
    "adata.obs[\"outlier\"] = (\n",
    "    is_outlier(adata, \"log1p_total_counts\", 5)\n",
    "    | is_outlier(adata, \"log1p_n_genes_by_counts\", 5)\n",
    "    | is_outlier(adata, \"pct_counts_in_top_20_genes\", 5)\n",
    ")\n",
    "\n",
    "adata.obs[\"mt_outlier\"] = is_outlier(adata, \"pct_counts_mt\", 3) | (\n",
    "    adata.obs[\"pct_counts_mt\"] > 8\n",
    ")\n",
    "\n",
    "adata = adata[(~adata.obs.outlier) & (~adata.obs.mt_outlier)].copy()"
   ]
  },
  {
   "cell_type": "code",
   "execution_count": null,
   "id": "a382bc7d",
   "metadata": {},
   "outputs": [],
   "source": [
    "sc.pl.highest_expr_genes(adata, n_top=20)"
   ]
  },
  {
   "cell_type": "code",
   "execution_count": null,
   "id": "a1638579",
   "metadata": {},
   "outputs": [],
   "source": [
    "adata.X = adata.layers['counts'].copy()\n",
    "adata.write('raw_clean_adata.h5ad')"
   ]
  },
  {
   "cell_type": "markdown",
   "id": "79666152",
   "metadata": {},
   "source": [
    "## scVI Integration"
   ]
  },
  {
   "cell_type": "code",
   "execution_count": null,
   "id": "a7b49ab9",
   "metadata": {},
   "outputs": [],
   "source": [
    "scvi.model.SCVI.setup_anndata(adata, batch_key='Patient', layer='counts')"
   ]
  },
  {
   "cell_type": "code",
   "execution_count": null,
   "id": "67ce7995",
   "metadata": {},
   "outputs": [],
   "source": [
    "arches_params = dict(\n",
    "    use_layer_norm='both',\n",
    "    use_batch_norm='none',\n",
    "    encode_covariates=True,\n",
    "    dropout_rate=0.2,\n",
    "    n_layers=2,\n",
    ")\n",
    "\n",
    "vae = scvi.model.SCVI(adata, **arches_params)\n",
    "vae.train()"
   ]
  },
  {
   "cell_type": "code",
   "execution_count": null,
   "id": "9afb2cda",
   "metadata": {},
   "outputs": [],
   "source": [
    "adata.obsm[\"X_scVI\"] = vae.get_latent_representation() #dimensional reduction\n",
    "adata.layers['scvi_normalized'] = vae.get_normalized_expression(library_size = 1e4)\n",
    "sc.pp.neighbors(adata, use_rep=\"X_scVI\")\n",
    "sc.tl.umap(adata)"
   ]
  },
  {
   "cell_type": "markdown",
   "id": "baa48cb3",
   "metadata": {},
   "source": [
    "## Umap Visualization"
   ]
  },
  {
   "cell_type": "code",
   "execution_count": null,
   "id": "36c74da8",
   "metadata": {},
   "outputs": [],
   "source": [
    "sc.pl.umap(adata, color = ['Condition', 'Patient'], frameon=False, ncols = 2)"
   ]
  },
  {
   "cell_type": "code",
   "execution_count": null,
   "id": "5685310b",
   "metadata": {},
   "outputs": [],
   "source": [
    "adata.write_h5ad(\"adataV1.h5ad\")"
   ]
  }
 ],
 "metadata": {
  "kernelspec": {
   "display_name": "Python [conda env:base] *",
   "language": "python",
   "name": "conda-base-py"
  },
  "language_info": {
   "codemirror_mode": {
    "name": "ipython",
    "version": 3
   },
   "file_extension": ".py",
   "mimetype": "text/x-python",
   "name": "python",
   "nbconvert_exporter": "python",
   "pygments_lexer": "ipython3",
   "version": "3.12.7"
  }
 },
 "nbformat": 4,
 "nbformat_minor": 5
}
